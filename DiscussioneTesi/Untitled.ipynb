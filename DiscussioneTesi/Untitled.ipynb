{
 "cells": [
  {
   "cell_type": "code",
   "execution_count": 1,
   "id": "e823e082",
   "metadata": {},
   "outputs": [],
   "source": [
    "num_parenti = 16\n",
    "num_noi = 2\n",
    "num_astretti = 4\n",
    "num_a = 5\n",
    "\n",
    "p_3s = 14\n",
    "p_pizza = 15"
   ]
  },
  {
   "cell_type": "code",
   "execution_count": 3,
   "id": "58c01fce",
   "metadata": {},
   "outputs": [
    {
     "name": "stdout",
     "output_type": "stream",
     "text": [
      "Festa tutti in pizzeria\n",
      "Numero di invitati totali : 27\n",
      "Prezzo totale per: \n",
      " Aperitivo \n",
      " Pizza \n",
      " Bibita \n",
      " 405\n"
     ]
    }
   ],
   "source": [
    "#Tutti in pizzeria\n",
    "print('Festa tutti in pizzeria')\n",
    "print(f'Numero di invitati totali : {num_parenti+num_noi+num_astretti+num_a}')\n",
    "print('Prezzo totale per: \\n Aperitivo \\n Pizza \\n Bibita} \n",
    "print(f'{(num_parenti+num_noi+num_astretti+num_a)*15}')"
   ]
  },
  {
   "cell_type": "code",
   "execution_count": 8,
   "id": "6c3ea1c8",
   "metadata": {
    "scrolled": true
   },
   "outputs": [
    {
     "name": "stdout",
     "output_type": "stream",
     "text": [
      "Festa aperitivo ai tre scalini più pizzeria\n",
      "Numero di invitati totali : 11\n",
      "Prezzo totale per: \n",
      " Apertivo ai tre scalini con parenti e amici stretti \n",
      " Pizza con gli amici\n",
      "487\n"
     ]
    }
   ],
   "source": [
    "#ai tre scalini + pizzeria\n",
    "print('Festa aperitivo ai tre scalini più pizzeria')\n",
    "print(f'Numero di invitati totali : {num_noi+num_astretti+num_a}')\n",
    "print(f'Prezzo totale per: \\n Apertivo ai tre scalini con parenti e amici stretti \\n Pizza con gli amici')\n",
    "print(f'{(num_parenti+num_noi+num_a)*14+(num_noi+num_astretti+num_a)*15}')\n"
   ]
  },
  {
   "cell_type": "code",
   "execution_count": 7,
   "id": "27e5677f",
   "metadata": {},
   "outputs": [
    {
     "data": {
      "text/plain": [
       "18"
      ]
     },
     "execution_count": 7,
     "metadata": {},
     "output_type": "execute_result"
    }
   ],
   "source": [
    "num_parenti+num_noi"
   ]
  },
  {
   "cell_type": "code",
   "execution_count": null,
   "id": "f33f642e",
   "metadata": {},
   "outputs": [],
   "source": []
  }
 ],
 "metadata": {
  "kernelspec": {
   "display_name": "Python 3",
   "language": "python",
   "name": "python3"
  },
  "language_info": {
   "codemirror_mode": {
    "name": "ipython",
    "version": 3
   },
   "file_extension": ".py",
   "mimetype": "text/x-python",
   "name": "python",
   "nbconvert_exporter": "python",
   "pygments_lexer": "ipython3",
   "version": "3.8.8"
  }
 },
 "nbformat": 4,
 "nbformat_minor": 5
}
