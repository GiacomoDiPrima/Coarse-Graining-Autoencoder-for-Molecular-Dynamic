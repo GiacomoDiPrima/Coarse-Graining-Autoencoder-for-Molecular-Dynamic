{
 "cells": [
  {
   "cell_type": "code",
   "execution_count": 2,
   "id": "e0440174-cb1e-4ecd-a025-0e807f2fffab",
   "metadata": {},
   "outputs": [
    {
     "data": {
      "application/vnd.jupyter.widget-view+json": {
       "model_id": "78a89f62c7474f0a90813d1af9a81ef9",
       "version_major": 2,
       "version_minor": 0
      },
      "text/plain": []
     },
     "metadata": {},
     "output_type": "display_data"
    }
   ],
   "source": [
    "import torch\n",
    "from torch import nn\n",
    "import numpy as np\n",
    "import mdshare \n",
    "import mdtraj as md \n",
    "import glob\n",
    "import torch.nn.functional as F\n",
    "from ase import Atoms\n",
    "from nglview import show_ase\n",
    "import nglview as ng\n",
    "import matplotlib.pyplot as plt"
   ]
  },
  {
   "cell_type": "code",
   "execution_count": 3,
   "id": "b027079d-46f8-4633-8c62-0e3421056659",
   "metadata": {},
   "outputs": [],
   "source": [
    "# define a CGAE\n",
    "\n",
    "class cgae(nn.Module):\n",
    "    \n",
    "    def __init__(self, n_atoms, n_cgs):\n",
    "        super().__init__()\n",
    "\n",
    "        assign_map = torch.randn(n_atoms, n_cgs)\n",
    "        decode = torch.randn(n_cgs, n_atoms)\n",
    "        \n",
    "        \n",
    "        self.n_atoms = n_atoms \n",
    "        self.assign_map = nn.Parameter(assign_map)\n",
    "        self.decode = nn.Parameter(decode)\n",
    "        \n",
    "    def forward(self, xyz, tau=1.0):\n",
    "        \n",
    "        # recenter coordinates \n",
    "        xyz = xyz.reshape(-1, self.n_atoms, 3)\n",
    "        shift = xyz.mean(1)\n",
    "        xyz = xyz - shift.unsqueeze(1)\n",
    "        \n",
    "        # get discrete assignment map\n",
    "        M = F.gumbel_softmax(self.assign_map, dim=-1)\n",
    "        M_norm = M / M.sum(-2).unsqueeze(-2)\n",
    "        \n",
    "        cg_xyz = torch.einsum('bij,in->bnj', xyz, M_norm)\n",
    "        xyz_recon = torch.einsum('bnj,ni->bij', cg_xyz, self.decode)\n",
    "        \n",
    "        return xyz, xyz_recon, M, M_norm, cg_xyz"
   ]
  },
  {
   "cell_type": "code",
   "execution_count": 4,
   "id": "dfca6059-fa4b-4fb4-bf8f-d484c50bb81b",
   "metadata": {},
   "outputs": [
    {
     "data": {
      "text/plain": [
       "cgae()"
      ]
     },
     "execution_count": 4,
     "metadata": {},
     "output_type": "execute_result"
    }
   ],
   "source": [
    "ae_L6 = torch.load('LANGEVIN/Models/ae_CG6.pth').to('cpu')\n",
    "ae_L6.eval()\n",
    "\n",
    "ae_NH6 = torch.load('NOSE_HOOVER/Models/ae_CG6.pth').to('cpu')\n",
    "ae_NH6.eval()\n",
    "\n",
    "ae_NH62 = torch.load('NOSE_HOOVER_2/Models/ae_CG6.pth').to('cpu')\n",
    "ae_NH62.eval()\n",
    "\n",
    "ae_L24 = torch.load('LANGEVIN/Models/ae_CG24.pth').to('cpu')\n",
    "ae_L24.eval()\n",
    "\n",
    "ae_NH24 = torch.load('NOSE_HOOVER/Models/ae_CG24.pth').to('cpu')\n",
    "ae_NH24.eval()\n",
    "\n",
    "ae_NH224 = torch.load('NOSE_HOOVER_2/Models/ae_CG24.pth').to('cpu')\n",
    "ae_NH224.eval()"
   ]
  },
  {
   "cell_type": "code",
   "execution_count": 5,
   "id": "20dab278-cf19-4019-8444-5fb68daa1899",
   "metadata": {},
   "outputs": [],
   "source": [
    "# build dataset and dataloader \n",
    "k = 10000\n",
    "tau = 0.4\n",
    "\n",
    "data_L = np.load('LANGEVIN/N_70.npy')\n",
    "data_NH = np.load('NOSE_HOOVER/N_70.npy')\n",
    "data_NH2 = np.load('NOSE_HOOVER_2/N_70.npy')\n",
    "\n",
    "\n",
    "test_xyz_L  = torch.Tensor(data_L[k:])\n",
    "test_xyz_NH  = torch.Tensor(data_NH[k:])\n",
    "test_xyz_NH2  = torch.Tensor(data_NH2[k:])\n"
   ]
  },
  {
   "cell_type": "code",
   "execution_count": 6,
   "id": "cb84b721-3ba6-4293-a7e4-3bbce141cd10",
   "metadata": {},
   "outputs": [],
   "source": [
    "xyz_L6, xyz_recon_L6, M_L6, M_norm_L6, cg_xyz_L6 = ae_L6(test_xyz_L[50], tau)\n",
    "xyz_NH6, xyz_recon_NH6, M_NH6, M_norm_NH6, cg_xyz_NH6 = ae_NH6(test_xyz_NH[0], tau)\n",
    "xyz_NH26, xyz_recon_NH26, M_NH26, M_norm_NH26, cg_xyz_NH26 = ae_NH6(test_xyz_NH2[0], tau)\n",
    "\n",
    "xyz_L24, xyz_recon_L24, M_L24, M_norm_L24, cg_xyz_L24 = ae_L24(test_xyz_L[50], tau)\n",
    "xyz_NH24, xyz_recon_NH24, M_NH24, M_norm_NH24, cg_xyz_NH24 = ae_NH24(test_xyz_NH[0], tau)\n",
    "xyz_NH224, xyz_recon_NH224, M_NH224, M_norm_NH224, cg_xyz_NH224 = ae_NH224(test_xyz_NH2[0], tau)"
   ]
  },
  {
   "cell_type": "code",
   "execution_count": null,
   "id": "f762a32f-cfa2-4a5c-903b-746533106503",
   "metadata": {},
   "outputs": [],
   "source": []
  },
  {
   "cell_type": "code",
   "execution_count": 7,
   "id": "30c5bebd-4347-49df-a340-7381a2772ed6",
   "metadata": {},
   "outputs": [],
   "source": [
    "import numpy as np\n",
    "import os"
   ]
  },
  {
   "cell_type": "code",
   "execution_count": 2,
   "id": "28cb48f6-d67f-4f51-8fc4-475f0eab1545",
   "metadata": {},
   "outputs": [],
   "source": [
    "data_L = np.load('LANGEVIN/N_70.npy')\n",
    "data_NH = np.load('NOSE_HOOVER/N_70.npy')\n",
    "data_NH2 = np.load('NOSE_HOOVER_2/N_70.npy')"
   ]
  },
  {
   "cell_type": "code",
   "execution_count": 21,
   "id": "31fa3332-1f80-4aba-8ea9-add0b7eab469",
   "metadata": {},
   "outputs": [],
   "source": [
    "xyz = xyz_L6.reshape(70, 3).detach().cpu().numpy()\n",
    "f = open('originalPR.txt', 'x')\n",
    "f.write(str(70)+'\\n')\n",
    "for i in np.arange(70):\n",
    "    if i==69:\n",
    "        f.write(str(i)+' '+'C'+' '+str(xyz[i, 0])+' '+str(xyz[i, 1])+' '+str(xyz[i, 2]))\n",
    "    else:\n",
    "        f.write(str(i)+' '+'C'+' '+str(xyz[i, 0])+' '+str(xyz[i, 1])+' '+str(xyz[i, 2])+'\\n')\n",
    "f.close()    "
   ]
  },
  {
   "cell_type": "code",
   "execution_count": 22,
   "id": "82b6c201-9b33-4597-ab72-fbf45d8a15ec",
   "metadata": {},
   "outputs": [],
   "source": [
    "xyz = cg_xyz_L6.reshape(6, 3).detach().cpu().numpy()\n",
    "f = open('CG6PR.txt', 'x')\n",
    "f.write(str(6)+'\\n')\n",
    "for i in np.arange(6):\n",
    "    if i==69:\n",
    "        f.write(str(i)+' '+'C'+' '+str(xyz[i, 0])+' '+str(xyz[i, 1])+' '+str(xyz[i, 2]))\n",
    "    else:\n",
    "        f.write(str(i)+' '+'C'+' '+str(xyz[i, 0])+' '+str(xyz[i, 1])+' '+str(xyz[i, 2])+'\\n')\n",
    "f.close()"
   ]
  },
  {
   "cell_type": "code",
   "execution_count": 23,
   "id": "40059755-d982-43f1-8786-1c75a190d7cd",
   "metadata": {},
   "outputs": [],
   "source": [
    "xyz = cg_xyz_L24.reshape(24, 3).detach().cpu().numpy()\n",
    "f = open('CG24PR.txt', 'x')\n",
    "f.write(str(24)+'\\n')\n",
    "for i in np.arange(24):\n",
    "    if i==69:\n",
    "        f.write(str(i)+' '+'C'+' '+str(xyz[i, 0])+' '+str(xyz[i, 1])+' '+str(xyz[i, 2]))\n",
    "    else:\n",
    "        f.write(str(i)+' '+'C'+' '+str(xyz[i, 0])+' '+str(xyz[i, 1])+' '+str(xyz[i, 2])+'\\n')\n",
    "f.close()"
   ]
  },
  {
   "cell_type": "code",
   "execution_count": 24,
   "id": "c258ed85-bc46-46dc-a5e9-059d3a6b03ef",
   "metadata": {},
   "outputs": [],
   "source": [
    "xyz = xyz_recon_L6.reshape(70, 3).detach().cpu().numpy()\n",
    "f = open('recon6PR.txt', 'x')\n",
    "f.write(str(70)+'\\n')\n",
    "for i in np.arange(70):\n",
    "    if i==69:\n",
    "        f.write(str(i)+' '+'C'+' '+str(xyz[i, 0])+' '+str(xyz[i, 1])+' '+str(xyz[i, 2]))\n",
    "    else:\n",
    "        f.write(str(i)+' '+'C'+' '+str(xyz[i, 0])+' '+str(xyz[i, 1])+' '+str(xyz[i, 2])+'\\n')\n",
    "f.close()    "
   ]
  },
  {
   "cell_type": "code",
   "execution_count": 25,
   "id": "d823e6af-cce1-4676-b4d2-01a29cca94d4",
   "metadata": {},
   "outputs": [],
   "source": [
    "xyz = xyz_recon_L24.reshape(70, 3).detach().cpu().numpy()\n",
    "f = open('recon24PR.txt', 'x')\n",
    "f.write(str(70)+'\\n')\n",
    "for i in np.arange(70):\n",
    "    if i==69:\n",
    "        f.write(str(i)+' '+'C'+' '+str(xyz[i, 0])+' '+str(xyz[i, 1])+' '+str(xyz[i, 2]))\n",
    "    else:\n",
    "        f.write(str(i)+' '+'C'+' '+str(xyz[i, 0])+' '+str(xyz[i, 1])+' '+str(xyz[i, 2])+'\\n')\n",
    "f.close()    "
   ]
  },
  {
   "cell_type": "code",
   "execution_count": 14,
   "id": "adc848fa-079d-4092-9447-1ed614827b96",
   "metadata": {},
   "outputs": [],
   "source": [
    "os.remove('polymer_ring.txt')"
   ]
  },
  {
   "cell_type": "code",
   "execution_count": 16,
   "id": "393d1d02-29ed-480a-aac6-0b8bd12a1bdc",
   "metadata": {},
   "outputs": [],
   "source": [
    "os.remove('polymer_ring_bond.txt')"
   ]
  }
 ],
 "metadata": {
  "kernelspec": {
   "display_name": "Python 3",
   "language": "python",
   "name": "python3"
  },
  "language_info": {
   "codemirror_mode": {
    "name": "ipython",
    "version": 3
   },
   "file_extension": ".py",
   "mimetype": "text/x-python",
   "name": "python",
   "nbconvert_exporter": "python",
   "pygments_lexer": "ipython3",
   "version": "3.8.8"
  }
 },
 "nbformat": 4,
 "nbformat_minor": 5
}
