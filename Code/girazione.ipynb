{
 "cells": [
  {
   "cell_type": "code",
   "execution_count": 1,
   "id": "53ad1fbe-cc36-4338-858f-147dd866ac39",
   "metadata": {},
   "outputs": [],
   "source": [
    "import numpy as np\n",
    "import matplotlib.pyplot as plt"
   ]
  },
  {
   "cell_type": "code",
   "execution_count": 2,
   "id": "901649f1-8828-4a01-a2e1-502fc0a1572e",
   "metadata": {},
   "outputs": [],
   "source": [
    "dataL = np.load('LANGEVIN/N_70.npy')\n",
    "dataN = np.load('NOSE_HOOVER_2/N_70.npy')"
   ]
  },
  {
   "cell_type": "code",
   "execution_count": 8,
   "id": "fec0996e-c0ee-4341-9754-bcf556c88e4b",
   "metadata": {},
   "outputs": [
    {
     "data": {
      "text/plain": [
       "(10100, 70, 3)"
      ]
     },
     "execution_count": 8,
     "metadata": {},
     "output_type": "execute_result"
    }
   ],
   "source": [
    "dataN.shape"
   ]
  },
  {
   "cell_type": "code",
   "execution_count": 3,
   "id": "f0f2f524-ef9f-45f2-9b42-f4a3d01d385e",
   "metadata": {},
   "outputs": [],
   "source": [
    "def gyration_radius(_input):\n",
    "    return np.average(np.sum( (_input[:] - np.average(_input, axis=0))**2, axis=1 ))"
   ]
  },
  {
   "cell_type": "code",
   "execution_count": 4,
   "id": "f3332118-9b40-4228-afa1-8f02db6472d5",
   "metadata": {},
   "outputs": [
    {
     "data": {
      "text/plain": [
       "15.953411290874795"
      ]
     },
     "execution_count": 4,
     "metadata": {},
     "output_type": "execute_result"
    }
   ],
   "source": [
    "gyration_radius(dataN[6245])"
   ]
  },
  {
   "cell_type": "code",
   "execution_count": 5,
   "id": "b0729a70-9000-4f5c-a73b-3453b539e5ab",
   "metadata": {},
   "outputs": [],
   "source": [
    "gr_L = []\n",
    "gr_NH= []\n",
    "\n",
    "for i in np.arange(10100):\n",
    "    gr_L.append(gyration_radius(dataL[i]))\n",
    "    gr_NH.append(gyration_radius(dataN[i]))\n"
   ]
  },
  {
   "cell_type": "code",
   "execution_count": 37,
   "id": "ffc1cc31-7d4b-4db4-a5ca-e5d1e7cf895f",
   "metadata": {},
   "outputs": [
    {
     "data": {
      "text/plain": [
       "array([[102.7936577 , 100.01357843,  92.37394849, ...,  16.33978258,\n",
       "         17.15360352,  19.80058542],\n",
       "       [ 18.76151475,  19.80898858,  19.18670668, ...,  18.9770621 ,\n",
       "         24.53820453,  21.99662412]])"
      ]
     },
     "execution_count": 37,
     "metadata": {},
     "output_type": "execute_result"
    }
   ],
   "source": [
    "HISTO = np.concatenate((gr_L, gr_NH))\n",
    "HISTO.reshape(2, 10100)"
   ]
  },
  {
   "cell_type": "code",
   "execution_count": 39,
   "id": "4effaf26-7884-4e72-abb6-bbf102368dc6",
   "metadata": {},
   "outputs": [
    {
     "data": {
      "image/png": "[encoded data removed]",
      "text/plain": [
       "<Figure size 432x288 with 1 Axes>"
      ]
     },
     "metadata": {
      "needs_background": "light"
     },
     "output_type": "display_data"
    }
   ],
   "source": [
    "plt.hist(gr_L, bins=50, density=True, range =(0, 60), histtype='step', fill=True,  color='orange', label='Langevin', )\n",
    "plt.hist(gr_NH,bins=50, density=True, range =(0, 60), histtype='step', fill=False, color='blue',   label='Nose-Hoover 2')\n",
    "\n",
    "plt.xlabel('Raggio di Girazione')\n",
    "plt.ylabel('pdf')\n",
    "plt.grid()\n",
    "plt.legend(loc='upper right')\n",
    "plt.savefig('distribuzione_RdG.png', dpi=1200)\n",
    "plt.show()"
   ]
  },
  {
   "cell_type": "code",
   "execution_count": null,
   "id": "3b76a401-572e-4f7b-9702-e4aff04ca2d8",
   "metadata": {},
   "outputs": [],
   "source": []
  }
 ],
 "metadata": {
  "kernelspec": {
   "display_name": "Python 3",
   "language": "python",
   "name": "python3"
  },
  "language_info": {
   "codemirror_mode": {
    "name": "ipython",
    "version": 3
   },
   "file_extension": ".py",
   "mimetype": "text/x-python",
   "name": "python",
   "nbconvert_exporter": "python",
   "pygments_lexer": "ipython3",
   "version": "3.8.8"
  }
 },
 "nbformat": 4,
 "nbformat_minor": 5
}
