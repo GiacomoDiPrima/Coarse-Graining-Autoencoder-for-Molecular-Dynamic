{
 "cells": [
  {
   "cell_type": "code",
   "execution_count": 1,
   "id": "4ab57bb8-2792-486e-8b96-8febfbc1eb4d",
   "metadata": {},
   "outputs": [
    {
     "data": {
      "application/vnd.jupyter.widget-view+json": {
       "model_id": "24acf3ccb85a4d5ab316223ef5f4b2ea",
       "version_major": 2,
       "version_minor": 0
      },
      "text/plain": []
     },
     "metadata": {},
     "output_type": "display_data"
    }
   ],
   "source": [
    "import torch\n",
    "from torch import nn\n",
    "import numpy as np\n",
    "import mdshare \n",
    "import mdtraj as md \n",
    "import glob\n",
    "import torch.nn.functional as F\n",
    "from ase import Atoms\n",
    "from nglview import show_ase\n",
    "import nglview as ng\n",
    "import matplotlib.pyplot as plt"
   ]
  },
  {
   "cell_type": "code",
   "execution_count": 2,
   "id": "85079a1e-c21a-4315-b971-0b3e28911b15",
   "metadata": {},
   "outputs": [],
   "source": [
    "# define a CGAE\n",
    "\n",
    "class cgae(nn.Module):\n",
    "    \n",
    "    def __init__(self, n_atoms, n_cgs):\n",
    "        super().__init__()\n",
    "\n",
    "        assign_map = torch.randn(n_atoms, n_cgs)\n",
    "        decode = torch.randn(n_cgs, n_atoms)\n",
    "        \n",
    "        \n",
    "        self.n_atoms = n_atoms \n",
    "        self.assign_map = nn.Parameter(assign_map)\n",
    "        self.decode = nn.Parameter(decode)\n",
    "        \n",
    "    def forward(self, xyz, tau=1.0):\n",
    "        \n",
    "        # recenter coordinates \n",
    "        xyz = xyz.reshape(-1, self.n_atoms, 3)\n",
    "        shift = xyz.mean(1)\n",
    "        xyz = xyz - shift.unsqueeze(1)\n",
    "        \n",
    "        # get discrete assignment map\n",
    "        M = F.gumbel_softmax(self.assign_map, dim=-1)\n",
    "        M_norm = M / M.sum(-2).unsqueeze(-2)\n",
    "        \n",
    "        cg_xyz = torch.einsum('bij,in->bnj', xyz, M_norm)\n",
    "        xyz_recon = torch.einsum('bnj,ni->bij', cg_xyz, self.decode)\n",
    "        \n",
    "        return xyz, xyz_recon, M, M_norm, cg_xyz"
   ]
  },
  {
   "cell_type": "code",
   "execution_count": 3,
   "id": "71c690cb-bfef-4fdd-a47e-43dbeae6bf57",
   "metadata": {},
   "outputs": [
    {
     "data": {
      "text/plain": [
       "cgae()"
      ]
     },
     "execution_count": 3,
     "metadata": {},
     "output_type": "execute_result"
    }
   ],
   "source": [
    "ae_L6 = torch.load('LANGEVIN/Models/ae_CG6.pth').to('cpu')\n",
    "ae_L6.eval()\n",
    "\n",
    "ae_NH6 = torch.load('NOSE_HOOVER/Models/ae_CG6.pth').to('cpu')\n",
    "ae_NH6.eval()\n",
    "\n",
    "ae_NH62 = torch.load('NOSE_HOOVER_2/Models/ae_CG6.pth').to('cpu')\n",
    "ae_NH62.eval()\n",
    "\n",
    "ae_L24 = torch.load('LANGEVIN/Models/ae_CG24.pth').to('cpu')\n",
    "ae_L24.eval()\n",
    "\n",
    "ae_NH24 = torch.load('NOSE_HOOVER/Models/ae_CG24.pth').to('cpu')\n",
    "ae_NH24.eval()\n",
    "\n",
    "ae_NH224 = torch.load('NOSE_HOOVER_2/Models/ae_CG24.pth').to('cpu')\n",
    "ae_NH224.eval()"
   ]
  },
  {
   "cell_type": "code",
   "execution_count": 4,
   "id": "37b58207-184e-4d8e-a0d6-a12142d95357",
   "metadata": {},
   "outputs": [],
   "source": [
    "# build dataset and dataloader \n",
    "k = 10000\n",
    "tau = 0.4\n",
    "\n",
    "data_L = np.load('LANGEVIN/N_70.npy')\n",
    "data_NH = np.load('NOSE_HOOVER/N_70.npy')\n",
    "data_NH2 = np.load('NOSE_HOOVER_2/N_70.npy')\n",
    "\n",
    "\n",
    "test_xyz_L  = torch.Tensor(data_L[k:])\n",
    "test_xyz_NH  = torch.Tensor(data_NH[k:])\n",
    "test_xyz_NH2  = torch.Tensor(data_NH2[k:])\n"
   ]
  },
  {
   "cell_type": "code",
   "execution_count": 5,
   "id": "152fc05f-abf0-42fc-9797-56e7a63868e0",
   "metadata": {},
   "outputs": [],
   "source": [
    "xyz_L6, xyz_recon_L6, M_L6, M_norm_L6, cg_xyz_L6 = ae_L6(test_xyz_L[0], tau)\n",
    "xyz_NH6, xyz_recon_NH6, M_NH6, M_norm_NH6, cg_xyz_NH6 = ae_NH6(test_xyz_NH[0], tau)\n",
    "xyz_NH26, xyz_recon_NH26, M_NH26, M_norm_NH26, cg_xyz_NH26 = ae_NH6(test_xyz_NH2[0], tau)\n",
    "\n",
    "xyz_L24, xyz_recon_L24, M_L24, M_norm_L24, cg_xyz_L24 = ae_L24(test_xyz_L[0], tau)\n",
    "xyz_NH24, xyz_recon_NH24, M_NH24, M_norm_NH24, cg_xyz_NH24 = ae_NH24(test_xyz_NH[0], tau)\n",
    "xyz_NH224, xyz_recon_NH224, M_NH224, M_norm_NH224, cg_xyz_NH224 = ae_NH224(test_xyz_NH2[0], tau)"
   ]
  },
  {
   "cell_type": "code",
   "execution_count": 6,
   "id": "56103b20-d39f-4def-b204-3731c15139ae",
   "metadata": {
    "tags": []
   },
   "outputs": [
    {
     "data": {
      "application/vnd.jupyter.widget-view+json": {
       "model_id": "658f753bd9d94bb59022499bc28f5659",
       "version_major": 2,
       "version_minor": 0
      },
      "text/plain": [
       "NGLWidget()"
      ]
     },
     "metadata": {},
     "output_type": "display_data"
    }
   ],
   "source": [
    "N_70_original_L = Atoms(positions= xyz_L6.reshape(70, 3).detach().cpu().numpy(), numbers=[1]*70)\n",
    "show_ase(N_70_original_L)"
   ]
  },
  {
   "cell_type": "code",
   "execution_count": 7,
   "id": "b394fd04-3f56-4ab3-b7df-49126cc14cd8",
   "metadata": {},
   "outputs": [
    {
     "data": {
      "application/vnd.jupyter.widget-view+json": {
       "model_id": "605e0052a9a04a3494ef0983f6c21031",
       "version_major": 2,
       "version_minor": 0
      },
      "text/plain": [
       "NGLWidget()"
      ]
     },
     "metadata": {},
     "output_type": "display_data"
    }
   ],
   "source": [
    "N_70_CGL6 = Atoms(positions= cg_xyz_L6.reshape(6, 3).detach().cpu().numpy(), numbers=[1]*6)\n",
    "show_ase(N_70_CGL6)"
   ]
  },
  {
   "cell_type": "code",
   "execution_count": 8,
   "id": "3c8c5b6f-360c-4e41-8f4c-34ad8487a857",
   "metadata": {},
   "outputs": [
    {
     "data": {
      "application/vnd.jupyter.widget-view+json": {
       "model_id": "36089174b5554dfc80dad2911419c0d3",
       "version_major": 2,
       "version_minor": 0
      },
      "text/plain": [
       "NGLWidget()"
      ]
     },
     "metadata": {},
     "output_type": "display_data"
    }
   ],
   "source": [
    "N_70_CGL24 = Atoms(positions= cg_xyz_L24.reshape(24, 3).detach().cpu().numpy(), numbers=[1]*24)\n",
    "show_ase(N_70_CGL24)"
   ]
  },
  {
   "cell_type": "code",
   "execution_count": 9,
   "id": "e8bb996e-9756-46fd-93a4-764e0b62b592",
   "metadata": {},
   "outputs": [
    {
     "data": {
      "application/vnd.jupyter.widget-view+json": {
       "model_id": "0ba7216e7830408495eb4083402f4b98",
       "version_major": 2,
       "version_minor": 0
      },
      "text/plain": [
       "NGLWidget()"
      ]
     },
     "metadata": {},
     "output_type": "display_data"
    }
   ],
   "source": [
    "N_70_recon_L6 = Atoms(positions= xyz_recon_L6.reshape(70, 3).detach().cpu().numpy(), numbers=[1]*70)\n",
    "show_ase(N_70_recon_L6)"
   ]
  },
  {
   "cell_type": "code",
   "execution_count": 10,
   "id": "c5e13412-82c3-4345-9efa-e838a807ed79",
   "metadata": {},
   "outputs": [
    {
     "data": {
      "application/vnd.jupyter.widget-view+json": {
       "model_id": "36f8f9a73b844aeb934f29acc20ddfc6",
       "version_major": 2,
       "version_minor": 0
      },
      "text/plain": [
       "NGLWidget()"
      ]
     },
     "metadata": {},
     "output_type": "display_data"
    }
   ],
   "source": [
    "N_70_recon_L24 = Atoms(positions= xyz_recon_L24.reshape(70, 3).detach().cpu().numpy(), numbers=[1]*70)\n",
    "show_ase(N_70_recon_L24)"
   ]
  },
  {
   "cell_type": "code",
   "execution_count": 11,
   "id": "b451b58d-c4d3-44c4-b7dd-ee2249a33204",
   "metadata": {
    "collapsed": true,
    "jupyter": {
     "outputs_hidden": true
    },
    "tags": []
   },
   "outputs": [
    {
     "data": {
      "application/vnd.jupyter.widget-view+json": {
       "model_id": "bbb6864c825a417da2080d4d9c9c45ef",
       "version_major": 2,
       "version_minor": 0
      },
      "text/plain": [
       "NGLWidget()"
      ]
     },
     "metadata": {},
     "output_type": "display_data"
    }
   ],
   "source": [
    "N_70_original_NH = Atoms(positions= xyz_NH6.reshape(70, 3).detach().cpu().numpy(), numbers=[1]*70)\n",
    "show_ase(N_70_original_NH)"
   ]
  },
  {
   "cell_type": "code",
   "execution_count": 12,
   "id": "e615b1f0-18de-4ec3-b206-48c2786fc8c3",
   "metadata": {
    "collapsed": true,
    "jupyter": {
     "outputs_hidden": true
    },
    "tags": []
   },
   "outputs": [
    {
     "data": {
      "application/vnd.jupyter.widget-view+json": {
       "model_id": "3eb7871293f34ca1a8bddb1ea753c6c9",
       "version_major": 2,
       "version_minor": 0
      },
      "text/plain": [
       "NGLWidget()"
      ]
     },
     "metadata": {},
     "output_type": "display_data"
    }
   ],
   "source": [
    "N_70_CGNH6 = Atoms(positions= cg_xyz_NH6.reshape(6, 3).detach().cpu().numpy(), numbers=[1]*6)\n",
    "show_ase(N_70_CGNH6)"
   ]
  },
  {
   "cell_type": "code",
   "execution_count": 13,
   "id": "48fc5cb7-b084-48e6-bca3-c29b3b4ccd50",
   "metadata": {
    "collapsed": true,
    "jupyter": {
     "outputs_hidden": true
    },
    "tags": []
   },
   "outputs": [
    {
     "data": {
      "application/vnd.jupyter.widget-view+json": {
       "model_id": "b32e7e7ad73e403d821b816bac8f5510",
       "version_major": 2,
       "version_minor": 0
      },
      "text/plain": [
       "NGLWidget()"
      ]
     },
     "metadata": {},
     "output_type": "display_data"
    }
   ],
   "source": [
    "N_70_CGNH24 = Atoms(positions= cg_xyz_NH24.reshape(24, 3).detach().cpu().numpy(), numbers=[1]*24)\n",
    "show_ase(N_70_CGNH24)"
   ]
  },
  {
   "cell_type": "code",
   "execution_count": 14,
   "id": "883c6515-03db-4dec-916d-d26535225dfe",
   "metadata": {
    "collapsed": true,
    "jupyter": {
     "outputs_hidden": true
    },
    "tags": []
   },
   "outputs": [
    {
     "data": {
      "application/vnd.jupyter.widget-view+json": {
       "model_id": "a3286566814a4db48642d1c5096d4f6f",
       "version_major": 2,
       "version_minor": 0
      },
      "text/plain": [
       "NGLWidget()"
      ]
     },
     "metadata": {},
     "output_type": "display_data"
    }
   ],
   "source": [
    "N_70_recon_NH6 = Atoms(positions= xyz_recon_NH6.reshape(70, 3).detach().cpu().numpy(), numbers=[1]*70)\n",
    "show_ase(N_70_recon_NH6)"
   ]
  },
  {
   "cell_type": "code",
   "execution_count": 15,
   "id": "76f47a3a-0e62-4836-b0bc-67fc6252fb02",
   "metadata": {
    "collapsed": true,
    "jupyter": {
     "outputs_hidden": true
    },
    "tags": []
   },
   "outputs": [
    {
     "data": {
      "application/vnd.jupyter.widget-view+json": {
       "model_id": "d13978c9410b479abba333eeef7db7dd",
       "version_major": 2,
       "version_minor": 0
      },
      "text/plain": [
       "NGLWidget()"
      ]
     },
     "metadata": {},
     "output_type": "display_data"
    }
   ],
   "source": [
    "N_70_recon_NH24 = Atoms(positions= xyz_recon_NH24.reshape(70, 3).detach().cpu().numpy(), numbers=[1]*70)\n",
    "show_ase(N_70_recon_NH24)"
   ]
  },
  {
   "cell_type": "code",
   "execution_count": null,
   "id": "fdaafa42-471a-4f2f-808d-354be4c9b082",
   "metadata": {},
   "outputs": [],
   "source": []
  },
  {
   "cell_type": "code",
   "execution_count": null,
   "id": "93bf1eab-042d-4bea-bc30-b2fc0a358ee7",
   "metadata": {},
   "outputs": [],
   "source": []
  },
  {
   "cell_type": "code",
   "execution_count": 16,
   "id": "794a2198-a8d3-4e61-963c-e8906bc4de6e",
   "metadata": {
    "tags": []
   },
   "outputs": [
    {
     "data": {
      "application/vnd.jupyter.widget-view+json": {
       "model_id": "ac2bc807382545a4ba047fa96b81844c",
       "version_major": 2,
       "version_minor": 0
      },
      "text/plain": [
       "NGLWidget()"
      ]
     },
     "metadata": {},
     "output_type": "display_data"
    }
   ],
   "source": [
    "N_70_original_NH2 = Atoms(positions= xyz_NH26.reshape(70, 3).detach().cpu().numpy(), numbers=[1]*70)\n",
    "show_ase(N_70_original_NH2)"
   ]
  },
  {
   "cell_type": "code",
   "execution_count": 17,
   "id": "23468842-260f-46d4-a636-624f0eec0119",
   "metadata": {
    "tags": []
   },
   "outputs": [
    {
     "data": {
      "application/vnd.jupyter.widget-view+json": {
       "model_id": "7992ffb80dec4616bc83268e1134b202",
       "version_major": 2,
       "version_minor": 0
      },
      "text/plain": [
       "NGLWidget()"
      ]
     },
     "metadata": {},
     "output_type": "display_data"
    }
   ],
   "source": [
    "N_70_CGNH26 = Atoms(positions= cg_xyz_NH26.reshape(6, 3).detach().cpu().numpy(), numbers=[1]*6)\n",
    "show_ase(N_70_CGNH26)"
   ]
  },
  {
   "cell_type": "code",
   "execution_count": 18,
   "id": "1fdd579a-7de3-4cb2-865f-c76258bcd160",
   "metadata": {
    "tags": []
   },
   "outputs": [
    {
     "data": {
      "application/vnd.jupyter.widget-view+json": {
       "model_id": "94f7c45cf23c47e6b18933480e27285f",
       "version_major": 2,
       "version_minor": 0
      },
      "text/plain": [
       "NGLWidget()"
      ]
     },
     "metadata": {},
     "output_type": "display_data"
    }
   ],
   "source": [
    "N_70_CGNH224 = Atoms(positions= cg_xyz_NH224.reshape(24, 3).detach().cpu().numpy(), numbers=[1]*24)\n",
    "show_ase(N_70_CGNH224)"
   ]
  },
  {
   "cell_type": "code",
   "execution_count": 19,
   "id": "96f8a8a8-c9a2-40ef-866c-e63ef0290b5a",
   "metadata": {
    "tags": []
   },
   "outputs": [
    {
     "data": {
      "application/vnd.jupyter.widget-view+json": {
       "model_id": "ce799401cd554a3c9b18cc9819ac77eb",
       "version_major": 2,
       "version_minor": 0
      },
      "text/plain": [
       "NGLWidget()"
      ]
     },
     "metadata": {},
     "output_type": "display_data"
    }
   ],
   "source": [
    "N_70_recon_NH26 = Atoms(positions= xyz_recon_NH26.reshape(70, 3).detach().cpu().numpy(), numbers=[1]*70)\n",
    "show_ase(N_70_recon_NH26)"
   ]
  },
  {
   "cell_type": "code",
   "execution_count": 20,
   "id": "514b4eb4-d7f6-454c-b065-65d875bfd52f",
   "metadata": {
    "tags": []
   },
   "outputs": [
    {
     "data": {
      "application/vnd.jupyter.widget-view+json": {
       "model_id": "bb93babdaffc4d9393807e60ef2a741e",
       "version_major": 2,
       "version_minor": 0
      },
      "text/plain": [
       "NGLWidget()"
      ]
     },
     "metadata": {},
     "output_type": "display_data"
    }
   ],
   "source": [
    "N_70_recon_NH224 = Atoms(positions= xyz_recon_NH224.reshape(70, 3).detach().cpu().numpy(), numbers=[1]*70)\n",
    "show_ase(N_70_recon_NH224)"
   ]
  },
  {
   "cell_type": "code",
   "execution_count": null,
   "id": "3d46fb68-bdb9-4e21-8cc1-3967eb1ce1b9",
   "metadata": {},
   "outputs": [],
   "source": []
  },
  {
   "cell_type": "code",
   "execution_count": null,
   "id": "77662086-d022-40b7-bb98-658b5affb9d8",
   "metadata": {},
   "outputs": [],
   "source": []
  },
  {
   "cell_type": "code",
   "execution_count": 16,
   "id": "3a928677-8a9c-43e6-9fdb-ef2ad6bc99a1",
   "metadata": {},
   "outputs": [],
   "source": [
    "N_70_original_L.write('pr_or_L.png',  rotation='')"
   ]
  },
  {
   "cell_type": "code",
   "execution_count": null,
   "id": "eafe1f31-fc8d-4b48-8e8a-dbe64ae9e041",
   "metadata": {},
   "outputs": [],
   "source": []
  },
  {
   "cell_type": "code",
   "execution_count": null,
   "id": "dcba562d-0d72-423b-9eb7-56bf91576ee7",
   "metadata": {},
   "outputs": [],
   "source": []
  },
  {
   "cell_type": "code",
   "execution_count": 36,
   "id": "b901f20e-4f63-4a9d-862a-65035eafb1e6",
   "metadata": {},
   "outputs": [],
   "source": [
    "#Loss data import\n",
    "loss_ae_CG6n  = np.loadtxt('NOSE_HOOVER_2/Losses/loss_ae_CG6.txt')\n",
    "loss_ae_CG12n  = np.loadtxt('NOSE_HOOVER_2/Losses/loss_ae_CG12.txt')\n",
    "loss_ae_CG18n  = np.loadtxt('NOSE_HOOVER_2/Losses/loss_ae_CG18.txt')\n",
    "loss_ae_CG24n  = np.loadtxt('NOSE_HOOVER_2/Losses/loss_ae_CG24.txt')\n",
    "\n",
    "loss_fm_CG6n  = np.loadtxt('NOSE_HOOVER_2/Losses/loss_fm_CG6.txt')\n",
    "loss_fm_CG12n  = np.loadtxt('NOSE_HOOVER_2/Losses/loss_fm_CG12.txt')\n",
    "loss_fm_CG18n  = np.loadtxt('NOSE_HOOVER_2/Losses/loss_fm_CG18.txt')\n",
    "loss_fm_CG24n  = np.loadtxt('NOSE_HOOVER_2/Losses/loss_fm_CG24.txt')\n",
    "\n",
    "loss_log_CG6n  = np.loadtxt('NOSE_HOOVER_2/Losses/loss_log_CG6.txt')\n",
    "loss_log_CG12n  = np.loadtxt('NOSE_HOOVER_2/Losses/loss_log_CG12.txt')\n",
    "loss_log_CG18n  = np.loadtxt('NOSE_HOOVER_2/Losses/loss_log_CG18.txt')\n",
    "loss_log_CG24n  = np.loadtxt('NOSE_HOOVER_2/Losses/loss_log_CG24.txt')\n",
    "\n",
    "\n",
    "loss_ae_CG6l  = np.loadtxt('LANGEVIN/Losses/loss_ae_CG6.txt')\n",
    "loss_ae_CG12l  = np.loadtxt('LANGEVIN/Losses/loss_ae_CG12.txt')\n",
    "loss_ae_CG18l  = np.loadtxt('LANGEVIN/Losses/loss_ae_CG18.txt')\n",
    "loss_ae_CG24l  = np.loadtxt('LANGEVIN/Losses/loss_ae_CG24.txt')\n",
    "\n",
    "loss_fm_CG6l  = np.loadtxt('LANGEVIN/Losses/loss_fm_CG6.txt')\n",
    "loss_fm_CG12l  = np.loadtxt('LANGEVIN/Losses/loss_fm_CG12.txt')\n",
    "loss_fm_CG18l  = np.loadtxt('LANGEVIN/Losses/loss_fm_CG18.txt')\n",
    "loss_fm_CG24l  = np.loadtxt('LANGEVIN/Losses/loss_fm_CG24.txt')\n",
    "\n",
    "loss_log_CG6l  = np.loadtxt('LANGEVIN/Losses/loss_log_CG6.txt')\n",
    "loss_log_CG12l  = np.loadtxt('LANGEVIN/Losses/loss_log_CG12.txt')\n",
    "loss_log_CG18l  = np.loadtxt('LANGEVIN/Losses/loss_log_CG18.txt')\n",
    "loss_log_CG24l  = np.loadtxt('LANGEVIN/Losses/loss_log_CG24.txt')\n",
    "\n",
    "RHO_L = [1*10**(-5), 7*10**(-6), 1*10**(-6), 7*10**(-7)]\n",
    "RHO_NH = [ 1*10**(-5), 1*10**(-6), 5*10**(-7), 1*10**(-7)]\n",
    "N_CG = [6, 12, 18, 24]"
   ]
  },
  {
   "cell_type": "code",
   "execution_count": 37,
   "id": "db93f588-dfe8-400a-9243-9aa70310471e",
   "metadata": {},
   "outputs": [],
   "source": [
    "loss_ae_CGn = np.array([loss_ae_CG6n[-1], loss_ae_CG12n[-1], loss_ae_CG18n[-1], loss_ae_CG24n[-1]])\n",
    "loss_fm_CGn = np.array([loss_fm_CG6n[-1], loss_fm_CG12n[-1], loss_fm_CG18n[-1], loss_fm_CG24n[-1]])\n",
    "loss_log_CGn = np.array([loss_log_CG6n[-1], loss_log_CG12n[-1], loss_log_CG18n[-1], loss_log_CG24n[-1]])\n",
    "\n",
    "\n",
    "loss_ae_CGl = np.array([loss_ae_CG6l[-1], loss_ae_CG12l[-1], loss_ae_CG18l[-1], loss_ae_CG24l[-1]])\n",
    "loss_fm_CGl = np.array([loss_fm_CG6l[-1], loss_fm_CG12l[-1], loss_fm_CG18l[-1], loss_fm_CG24l[-1]])\n",
    "loss_log_CGl = np.array([loss_log_CG6l[-1], loss_log_CG12l[-1], loss_log_CG18l[-1], loss_log_CG24l[-1]])"
   ]
  },
  {
   "cell_type": "code",
   "execution_count": 38,
   "id": "708c6340-971f-4cc8-9405-920c91b02825",
   "metadata": {},
   "outputs": [
    {
     "data": {
      "image/png": "[encoded data removed]",
      "text/plain": [
       "<Figure size 576x576 with 4 Axes>"
      ]
     },
     "metadata": {
      "needs_background": "light"
     },
     "output_type": "display_data"
    }
   ],
   "source": [
    "#plot losses\n",
    "fig, axes = plt.subplots(2, 1, sharex=True, sharey=True, figsize=(8,8))\n",
    "fig.text(0.04, 0.5, 'Reconstruction loss', va='center', rotation= 90, fontsize='x-large', color = 'blue')\n",
    "fig.text(0.97, 0.5, 'Regularization loss', va='center', rotation=-90, fontsize='x-large', color = 'green')\n",
    "\n",
    "axes[0].set_title('NOSE-HOOVER2')\n",
    "axes[0].plot(N_CG, loss_ae_CGn, 'o-', label = 'Loss_ae')\n",
    "#ax1.set_ylabel('Reconstruction loss')\n",
    "axes[0].set_xticks(ticks=[6, 8, 10, 12, 14, 16, 18, 20, 22, 24, 26])\n",
    "axes[0].tick_params(axis='x', direction='in')\n",
    "axes[0].grid()\n",
    "#axes[0].legend(loc='center left')\n",
    "\n",
    "axes0 = axes[0].twinx()\n",
    "axes0.plot(N_CG, loss_fm_CGn/RHO_NH, 'o-', label = 'Loss_fm', color = 'green')\n",
    "#ax1.set_ylabel('Reconstruction loss')\n",
    "#axes0.set_xticks(ticks=[6, 8, 10, 12, 14, 16, 18, 20, 22, 24, 26])\n",
    "axes0.tick_params(axis='x', direction='in')\n",
    "#axes0.grid()\n",
    "#axes0.legend(loc='center right')\n",
    "\n",
    "\n",
    "\n",
    "\n",
    "axes[1].set_title('LANGEVIN')\n",
    "axes[1].plot(N_CG, loss_ae_CGl, 'o-', label = r'$Loss_{ae}$')\n",
    "#ax1.set_ylabel('Reconstruction loss')\n",
    "axes[1].set_xticks(ticks=[6, 8, 10, 12, 14, 16, 18, 20, 22, 24, 26])\n",
    "axes[1].tick_params(axis='x', direction='in')\n",
    "axes[1].grid()\n",
    "#axes[1].legend(loc='center left')\n",
    "\n",
    "axes1 = axes[1].twinx()\n",
    "axes1.plot(N_CG, loss_fm_CGl/RHO_L, 'o-', label = 'Loss_fm', color = 'green')\n",
    "#ax1.set_ylabel('Reconstruction loss')\n",
    "#axes0.set_xticks(ticks=[6, 8, 10, 12, 14, 16, 18, 20, 22, 24, 26])\n",
    "axes1.tick_params(axis='x', direction='in')\n",
    "#axes0.grid()\n",
    "#axes1.legend(loc='center right')\n",
    "plt.savefig('Confronto_CG_prov.png', dpi=1200)\n",
    "plt.show()"
   ]
  },
  {
   "cell_type": "code",
   "execution_count": 44,
   "id": "e0af7be0-29af-4a5e-9110-95be82dcd18a",
   "metadata": {},
   "outputs": [
    {
     "data": {
      "image/png": "[encoded data removed]",
      "text/plain": [
       "<Figure size 432x288 with 1 Axes>"
      ]
     },
     "metadata": {
      "needs_background": "light"
     },
     "output_type": "display_data"
    }
   ],
   "source": [
    "plt.plot(np.arange(len(loss_ae_CG6l)), loss_ae_CG6l, color='red',  label='LANGEVIN')\n",
    "plt.plot(np.arange(len(loss_ae_CG6n)), loss_ae_CG6n, color='blue', label='NOSE_HOOVER_2')\n",
    "\n",
    "plt.ylim(0, 5)\n",
    "plt.xlim(0, 600)\n",
    "\n",
    "plt.xlabel('Epoch')\n",
    "plt.ylabel('Reconstruction Loss')\n",
    "\n",
    "plt.legend(loc='upper right')\n",
    "plt.grid()\n",
    "plt.title('Loss_ae (CG6)')\n",
    "\n",
    "plt.savefig('Confronto_loss_ae_CG6.png', dpi=1200)\n",
    "plt.show()"
   ]
  },
  {
   "cell_type": "code",
   "execution_count": 43,
   "id": "da22ec26-c39d-427d-affc-1286f67741d3",
   "metadata": {},
   "outputs": [
    {
     "data": {
      "image/png": "[encoded data removed]",
      "text/plain": [
       "<Figure size 432x288 with 1 Axes>"
      ]
     },
     "metadata": {
      "needs_background": "light"
     },
     "output_type": "display_data"
    }
   ],
   "source": [
    "plt.plot(np.arange(len(loss_fm_CG6l)), loss_fm_CG6l, color='red',  label='LANGEVIN')\n",
    "plt.plot(np.arange(len(loss_fm_CG6n)), loss_fm_CG6n, color='blue', label='NOSE_HOOVER')\n",
    "\n",
    "#plt.ylim(0, 5)\n",
    "plt.xlim(0, 600)\n",
    "plt.ylim(0, 0.04)\n",
    "\n",
    "plt.xlabel('Epoch')\n",
    "plt.ylabel('Regularization Loss')\n",
    "\n",
    "plt.legend(loc='center right')\n",
    "plt.grid()\n",
    "plt.title(r'$\\rho = 10^{-5}$ (CG6)')\n",
    "plt.show()"
   ]
  },
  {
   "cell_type": "code",
   "execution_count": 51,
   "id": "68d45a5c-9358-4c8d-a5a3-461b6cec93eb",
   "metadata": {},
   "outputs": [
    {
     "data": {
      "text/plain": [
       "<matplotlib.image.AxesImage at 0x1cf9372a940>"
      ]
     },
     "execution_count": 51,
     "metadata": {},
     "output_type": "execute_result"
    },
    {
     "data": {
      "image/png": "[encoded data removed]",
      "text/plain": [
       "<Figure size 1296x1440 with 1 Axes>"
      ]
     },
     "metadata": {
      "needs_background": "light"
     },
     "output_type": "display_data"
    }
   ],
   "source": [
    "ML_6i = torch.load('LANGEVIN/M/M_CG6_i.pt')\n",
    "ML_6f = torch.load('LANGEVIN/M/M_CG6_f.pt')\n",
    "plt.figure(figsize=(18,20))\n",
    "plt.imshow(ML_6f.t().detach().cpu().numpy())"
   ]
  },
  {
   "cell_type": "code",
   "execution_count": 29,
   "id": "00adda80-4f0d-42ba-96ab-590383507487",
   "metadata": {},
   "outputs": [
    {
     "data": {
      "text/plain": [
       "<matplotlib.image.AxesImage at 0x1cfe6019400>"
      ]
     },
     "execution_count": 29,
     "metadata": {},
     "output_type": "execute_result"
    },
    {
     "data": {
      "image/png": "[encoded data removed]",
      "text/plain": [
       "<Figure size 1296x1440 with 1 Axes>"
      ]
     },
     "metadata": {
      "needs_background": "light"
     },
     "output_type": "display_data"
    }
   ],
   "source": [
    "MNH_6i = torch.load('NOSE_HOOVER/M/M_CG6_i.pt')\n",
    "MNH_6f = torch.load('NOSE_HOOVER/M/M_CG6_f.pt')\n",
    "plt.figure(figsize=(18,20))\n",
    "plt.imshow(MNH_6f.t().detach().cpu().numpy())"
   ]
  },
  {
   "cell_type": "code",
   "execution_count": 28,
   "id": "4ddd00ad-ba51-4a23-a3c7-90ee1776563a",
   "metadata": {},
   "outputs": [],
   "source": [
    "ML_6f = torch.load('LANGEVIN/M/M_CG6_f.pt')\n",
    "ML_12f = torch.load('LANGEVIN/M/M_CG12_f.pt')\n",
    "ML_18f = torch.load('LANGEVIN/M/M_CG18_f.pt')\n",
    "ML_24f = torch.load('LANGEVIN/M/M_CG24_f.pt')\n",
    "\n",
    "MNH_6f = torch.load('NOSE_HOOVER/M/M_CG6_f.pt')\n",
    "MNH_12f = torch.load('NOSE_HOOVER/M/M_CG12_f.pt')\n",
    "MNH_18f = torch.load('NOSE_HOOVER/M/M_CG18_f.pt')\n",
    "MNH_24f = torch.load('NOSE_HOOVER/M/M_CG24_f.pt')"
   ]
  },
  {
   "cell_type": "code",
   "execution_count": 29,
   "id": "6f7e662e-089c-497a-8268-cd2c0ec92208",
   "metadata": {
    "collapsed": true,
    "jupyter": {
     "outputs_hidden": true
    },
    "tags": []
   },
   "outputs": [
    {
     "data": {
      "text/plain": [
       "<matplotlib.image.AxesImage at 0x22160016b50>"
      ]
     },
     "execution_count": 29,
     "metadata": {},
     "output_type": "execute_result"
    },
    {
     "data": {
      "image/png": "[encoded data removed]",
      "text/plain": [
       "<Figure size 1296x1440 with 1 Axes>"
      ]
     },
     "metadata": {
      "needs_background": "light"
     },
     "output_type": "display_data"
    }
   ],
   "source": [
    "plt.figure(figsize=(18,20))\n",
    "plt.imshow(MNH_24f.t().detach().cpu().numpy())"
   ]
  },
  {
   "cell_type": "code",
   "execution_count": 48,
   "id": "13263a0f-2770-47f7-a533-c6c1caa00a64",
   "metadata": {
    "collapsed": true,
    "jupyter": {
     "outputs_hidden": true
    },
    "tags": []
   },
   "outputs": [
    {
     "name": "stdout",
     "output_type": "stream",
     "text": [
      "tensor(13, device='cuda:0')\n",
      "tensor(15, device='cuda:0')\n",
      "tensor(11, device='cuda:0')\n",
      "tensor(13, device='cuda:0')\n",
      "tensor(12, device='cuda:0')\n",
      "tensor(11, device='cuda:0')\n"
     ]
    }
   ],
   "source": [
    "for i in np.arange(6):\n",
    "    c = ML_6f[:, i] > 0.01\n",
    "    print(c.sum())\n",
    "            \n"
   ]
  },
  {
   "cell_type": "code",
   "execution_count": null,
   "id": "9c2590f3-94ff-4a99-93f7-b6973acf77b6",
   "metadata": {},
   "outputs": [],
   "source": []
  },
  {
   "cell_type": "code",
   "execution_count": null,
   "id": "33f87eab-0daf-4f49-b1f9-a301e4391fa5",
   "metadata": {},
   "outputs": [],
   "source": []
  },
  {
   "cell_type": "code",
   "execution_count": null,
   "id": "e553e34a-bf0b-4893-8529-d9421a5356d1",
   "metadata": {},
   "outputs": [],
   "source": []
  },
  {
   "cell_type": "code",
   "execution_count": null,
   "id": "9b5df9a4-5516-4880-adbe-53bb64c9faf5",
   "metadata": {},
   "outputs": [],
   "source": []
  },
  {
   "cell_type": "code",
   "execution_count": null,
   "id": "ed65d0d8-abf6-48e1-a559-8ad70cb64119",
   "metadata": {},
   "outputs": [],
   "source": []
  },
  {
   "cell_type": "code",
   "execution_count": null,
   "id": "ceb4e820-e66b-4b9d-9e1e-95d4054cc7cd",
   "metadata": {},
   "outputs": [],
   "source": []
  },
  {
   "cell_type": "code",
   "execution_count": null,
   "id": "2d8427b7-0b0d-41fe-afa1-acd03500f830",
   "metadata": {},
   "outputs": [],
   "source": []
  },
  {
   "cell_type": "code",
   "execution_count": null,
   "id": "b648363d-0a67-4187-9741-fe323c40bcf5",
   "metadata": {},
   "outputs": [],
   "source": []
  },
  {
   "cell_type": "code",
   "execution_count": null,
   "id": "9d3946c9-7654-4119-81f9-5aa48dbc06ee",
   "metadata": {},
   "outputs": [],
   "source": []
  },
  {
   "cell_type": "code",
   "execution_count": null,
   "id": "99a80a16-4d7a-44d3-a86c-c0ceb8cbdee0",
   "metadata": {},
   "outputs": [],
   "source": []
  },
  {
   "cell_type": "code",
   "execution_count": null,
   "id": "addc4a27-7fba-4778-aa9b-28f5787ee0ce",
   "metadata": {},
   "outputs": [],
   "source": []
  },
  {
   "cell_type": "code",
   "execution_count": null,
   "id": "89d83d2f-885f-41c0-9ecc-ea4d94d046e1",
   "metadata": {},
   "outputs": [],
   "source": []
  },
  {
   "cell_type": "code",
   "execution_count": null,
   "id": "b6827012-9770-4347-90df-fe42ae46622b",
   "metadata": {},
   "outputs": [],
   "source": []
  },
  {
   "cell_type": "code",
   "execution_count": null,
   "id": "4978aa17-49bb-4ca7-8cee-62e5795ae07e",
   "metadata": {},
   "outputs": [],
   "source": []
  },
  {
   "cell_type": "code",
   "execution_count": null,
   "id": "b787fb76-9cb5-4ed8-b9c9-fec160d0d303",
   "metadata": {},
   "outputs": [],
   "source": []
  },
  {
   "cell_type": "code",
   "execution_count": null,
   "id": "9dfcc28d-6d5f-44d7-9d39-1e728fb46e51",
   "metadata": {},
   "outputs": [],
   "source": []
  },
  {
   "cell_type": "code",
   "execution_count": 21,
   "id": "a87b17f1-b6a0-41cd-a46a-4674baa44d92",
   "metadata": {},
   "outputs": [],
   "source": [
    "# creates: C2H4.png\n",
    "from ase.build.molecule import molecule\n",
    "from ase.io import write\n",
    "from ase.io.pov import get_bondpairs, set_high_bondorder_pairs"
   ]
  },
  {
   "cell_type": "code",
   "execution_count": 30,
   "id": "109c86ad-2ef6-4556-b83f-2874f66f4fd6",
   "metadata": {},
   "outputs": [
    {
     "ename": "KeyError",
     "evalue": "'C2H54'",
     "output_type": "error",
     "traceback": [
      "\u001b[1;31m---------------------------------------------------------------------------\u001b[0m",
      "\u001b[1;31mKeyError\u001b[0m                                  Traceback (most recent call last)",
      "\u001b[1;32m<ipython-input-30-d57a7375db16>\u001b[0m in \u001b[0;36m<module>\u001b[1;34m\u001b[0m\n\u001b[0;32m      1\u001b[0m \u001b[1;31m#C70 = molecule('C70H140')\u001b[0m\u001b[1;33m\u001b[0m\u001b[1;33m\u001b[0m\u001b[1;33m\u001b[0m\u001b[0m\n\u001b[1;32m----> 2\u001b[1;33m \u001b[0mC2H4\u001b[0m \u001b[1;33m=\u001b[0m \u001b[0mmolecule\u001b[0m\u001b[1;33m(\u001b[0m\u001b[1;34m'C2H54'\u001b[0m\u001b[1;33m)\u001b[0m\u001b[1;33m\u001b[0m\u001b[1;33m\u001b[0m\u001b[0m\n\u001b[0m",
      "\u001b[1;32m~\\anaconda3\\lib\\site-packages\\ase\\build\\molecule.py\u001b[0m in \u001b[0;36mmolecule\u001b[1;34m(name, vacuum, **kwargs)\u001b[0m\n\u001b[0;32m     42\u001b[0m         \u001b[0mmol\u001b[0m \u001b[1;33m=\u001b[0m \u001b[0mAtoms\u001b[0m\u001b[1;33m(\u001b[0m\u001b[1;33m**\u001b[0m\u001b[0mkwargs\u001b[0m\u001b[1;33m)\u001b[0m\u001b[1;33m\u001b[0m\u001b[1;33m\u001b[0m\u001b[0m\n\u001b[0;32m     43\u001b[0m     \u001b[1;32melse\u001b[0m\u001b[1;33m:\u001b[0m\u001b[1;33m\u001b[0m\u001b[1;33m\u001b[0m\u001b[0m\n\u001b[1;32m---> 44\u001b[1;33m         \u001b[0mmol\u001b[0m \u001b[1;33m=\u001b[0m \u001b[0mg2\u001b[0m\u001b[1;33m[\u001b[0m\u001b[0mname\u001b[0m\u001b[1;33m]\u001b[0m\u001b[1;33m\u001b[0m\u001b[1;33m\u001b[0m\u001b[0m\n\u001b[0m\u001b[0;32m     45\u001b[0m         \u001b[1;32mif\u001b[0m \u001b[0mkwargs\u001b[0m\u001b[1;33m:\u001b[0m\u001b[1;33m\u001b[0m\u001b[1;33m\u001b[0m\u001b[0m\n\u001b[0;32m     46\u001b[0m             \u001b[0mmol\u001b[0m \u001b[1;33m=\u001b[0m \u001b[0mAtoms\u001b[0m\u001b[1;33m(\u001b[0m\u001b[0mmol\u001b[0m\u001b[1;33m,\u001b[0m \u001b[1;33m**\u001b[0m\u001b[0mkwargs\u001b[0m\u001b[1;33m)\u001b[0m\u001b[1;33m\u001b[0m\u001b[1;33m\u001b[0m\u001b[0m\n",
      "\u001b[1;32m~\\anaconda3\\lib\\site-packages\\ase\\collections\\collection.py\u001b[0m in \u001b[0;36m__getitem__\u001b[1;34m(self, name)\u001b[0m\n\u001b[0;32m     51\u001b[0m     \u001b[1;32mdef\u001b[0m \u001b[0m__getitem__\u001b[0m\u001b[1;33m(\u001b[0m\u001b[0mself\u001b[0m\u001b[1;33m,\u001b[0m \u001b[0mname\u001b[0m\u001b[1;33m)\u001b[0m\u001b[1;33m:\u001b[0m\u001b[1;33m\u001b[0m\u001b[1;33m\u001b[0m\u001b[0m\n\u001b[0;32m     52\u001b[0m         \u001b[0mself\u001b[0m\u001b[1;33m.\u001b[0m\u001b[0m_read\u001b[0m\u001b[1;33m(\u001b[0m\u001b[1;33m)\u001b[0m\u001b[1;33m\u001b[0m\u001b[1;33m\u001b[0m\u001b[0m\n\u001b[1;32m---> 53\u001b[1;33m         \u001b[1;32mreturn\u001b[0m \u001b[0mself\u001b[0m\u001b[1;33m.\u001b[0m\u001b[0m_systems\u001b[0m\u001b[1;33m[\u001b[0m\u001b[0mname\u001b[0m\u001b[1;33m]\u001b[0m\u001b[1;33m.\u001b[0m\u001b[0mcopy\u001b[0m\u001b[1;33m(\u001b[0m\u001b[1;33m)\u001b[0m\u001b[1;33m\u001b[0m\u001b[1;33m\u001b[0m\u001b[0m\n\u001b[0m\u001b[0;32m     54\u001b[0m \u001b[1;33m\u001b[0m\u001b[0m\n\u001b[0;32m     55\u001b[0m     \u001b[1;32mdef\u001b[0m \u001b[0mhas\u001b[0m\u001b[1;33m(\u001b[0m\u001b[0mself\u001b[0m\u001b[1;33m,\u001b[0m \u001b[0mname\u001b[0m\u001b[1;33m)\u001b[0m\u001b[1;33m:\u001b[0m\u001b[1;33m\u001b[0m\u001b[1;33m\u001b[0m\u001b[0m\n",
      "\u001b[1;31mKeyError\u001b[0m: 'C2H54'"
     ]
    }
   ],
   "source": [
    "#C70 = molecule('C70H140')\n"
   ]
  },
  {
   "cell_type": "code",
   "execution_count": null,
   "id": "a03f4159-6216-4430-a8b1-2f3f249a9c7c",
   "metadata": {},
   "outputs": [],
   "source": []
  },
  {
   "cell_type": "code",
   "execution_count": null,
   "id": "6775529f-4d74-47e1-a5c9-bf9075e586ce",
   "metadata": {},
   "outputs": [],
   "source": []
  },
  {
   "cell_type": "code",
   "execution_count": null,
   "id": "fec3a6ed-4257-4e4e-a38a-9577659520a3",
   "metadata": {},
   "outputs": [],
   "source": []
  },
  {
   "cell_type": "code",
   "execution_count": null,
   "id": "f7a0f177-ede9-4fc4-aeb1-19ebf4081e4d",
   "metadata": {},
   "outputs": [],
   "source": []
  },
  {
   "cell_type": "code",
   "execution_count": null,
   "id": "846b9b65-61b3-4d9b-ab81-df6e0f005bcb",
   "metadata": {},
   "outputs": [],
   "source": []
  },
  {
   "cell_type": "code",
   "execution_count": 17,
   "id": "ea52524a-4988-4312-90dd-5690ebf8498f",
   "metadata": {},
   "outputs": [],
   "source": []
  },
  {
   "cell_type": "code",
   "execution_count": 32,
   "id": "a6449c8a-686d-49dc-b352-e181723be27d",
   "metadata": {},
   "outputs": [],
   "source": [
    "C2H4 = molecule('C2H4')\n",
    "r = [{'C': 0.4, 'H': 0.2}[at.symbol] for at in C2H4]\n",
    "bondpairs = get_bondpairs(C2H4, radius=1.1)\n",
    "high_bondorder_pairs = {}"
   ]
  },
  {
   "cell_type": "code",
   "execution_count": 34,
   "id": "d9a51738-c5a8-47f8-8f5b-3b5304bb1eb7",
   "metadata": {},
   "outputs": [],
   "source": [
    "# This defines offset, bond order, and bond_offset of the bond between 0 and 1\n",
    "high_bondorder_pairs[(0, 1)] = ((0, 0, 0), 2, (0.17, 0.17, 0))\n",
    "bondpairs = set_high_bondorder_pairs(bondpairs, high_bondorder_pairs)\n",
    "\n",
    "renderer = write('C2H4.pov', C2H4, format='pov',\n",
    "                 radii=r, rotation='90y',\n",
    "                 povray_settings=dict(canvas_width=200, bondatoms=bondpairs))\n",
    "#renderer.render()"
   ]
  },
  {
   "cell_type": "code",
   "execution_count": 41,
   "id": "0ebc1909-67b8-49e7-9f44-8fbdbded1555",
   "metadata": {},
   "outputs": [
    {
     "data": {
      "text/plain": [
       "[[0, 1, (0, 0, 0), 2, (0.17, 0.17, 0)],\n",
       " (0, 2, array([0, 0, 0])),\n",
       " (0, 3, array([0, 0, 0])),\n",
       " (1, 4, array([0, 0, 0])),\n",
       " (1, 5, array([0, 0, 0]))]"
      ]
     },
     "execution_count": 41,
     "metadata": {},
     "output_type": "execute_result"
    }
   ],
   "source": [
    "bondpairs"
   ]
  },
  {
   "cell_type": "code",
   "execution_count": null,
   "id": "c48a3d7e-bc23-4d8d-a9fb-3ad6a49b60ad",
   "metadata": {},
   "outputs": [],
   "source": []
  }
 ],
 "metadata": {
  "kernelspec": {
   "display_name": "Python 3",
   "language": "python",
   "name": "python3"
  },
  "language_info": {
   "codemirror_mode": {
    "name": "ipython",
    "version": 3
   },
   "file_extension": ".py",
   "mimetype": "text/x-python",
   "name": "python",
   "nbconvert_exporter": "python",
   "pygments_lexer": "ipython3",
   "version": "3.8.8"
  }
 },
 "nbformat": 4,
 "nbformat_minor": 5
}
